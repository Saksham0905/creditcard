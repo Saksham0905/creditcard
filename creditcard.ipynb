{
  "nbformat": 4,
  "nbformat_minor": 0,
  "metadata": {
    "colab": {
      "provenance": [],
      "authorship_tag": "ABX9TyNTcY45be/2VKolXkykP6h7",
      "include_colab_link": true
    },
    "kernelspec": {
      "name": "python3",
      "display_name": "Python 3"
    },
    "language_info": {
      "name": "python"
    }
  },
  "cells": [
    {
      "cell_type": "markdown",
      "metadata": {
        "id": "view-in-github",
        "colab_type": "text"
      },
      "source": [
        "<a href=\"https://colab.research.google.com/github/Saksham0905/creditcard/blob/main/creditcard.ipynb\" target=\"_parent\"><img src=\"https://colab.research.google.com/assets/colab-badge.svg\" alt=\"Open In Colab\"/></a>"
      ]
    },
    {
      "cell_type": "code",
      "execution_count": null,
      "metadata": {
        "colab": {
          "base_uri": "https://localhost:8080/"
        },
        "id": "pscjU2XzonTZ",
        "outputId": "f76dd597-13f3-4b4c-c5e7-0420a16dc115"
      },
      "outputs": [
        {
          "output_type": "stream",
          "name": "stdout",
          "text": [
            "Requirement already satisfied: pandas in /usr/local/lib/python3.11/dist-packages (2.2.2)\n",
            "Requirement already satisfied: scikit-learn in /usr/local/lib/python3.11/dist-packages (1.6.1)\n",
            "Requirement already satisfied: matplotlib in /usr/local/lib/python3.11/dist-packages (3.10.0)\n",
            "Requirement already satisfied: seaborn in /usr/local/lib/python3.11/dist-packages (0.13.2)\n",
            "Requirement already satisfied: numpy>=1.23.2 in /usr/local/lib/python3.11/dist-packages (from pandas) (2.0.2)\n",
            "Requirement already satisfied: python-dateutil>=2.8.2 in /usr/local/lib/python3.11/dist-packages (from pandas) (2.9.0.post0)\n",
            "Requirement already satisfied: pytz>=2020.1 in /usr/local/lib/python3.11/dist-packages (from pandas) (2025.2)\n",
            "Requirement already satisfied: tzdata>=2022.7 in /usr/local/lib/python3.11/dist-packages (from pandas) (2025.2)\n",
            "Requirement already satisfied: scipy>=1.6.0 in /usr/local/lib/python3.11/dist-packages (from scikit-learn) (1.15.3)\n",
            "Requirement already satisfied: joblib>=1.2.0 in /usr/local/lib/python3.11/dist-packages (from scikit-learn) (1.5.1)\n",
            "Requirement already satisfied: threadpoolctl>=3.1.0 in /usr/local/lib/python3.11/dist-packages (from scikit-learn) (3.6.0)\n",
            "Requirement already satisfied: contourpy>=1.0.1 in /usr/local/lib/python3.11/dist-packages (from matplotlib) (1.3.2)\n",
            "Requirement already satisfied: cycler>=0.10 in /usr/local/lib/python3.11/dist-packages (from matplotlib) (0.12.1)\n",
            "Requirement already satisfied: fonttools>=4.22.0 in /usr/local/lib/python3.11/dist-packages (from matplotlib) (4.58.4)\n",
            "Requirement already satisfied: kiwisolver>=1.3.1 in /usr/local/lib/python3.11/dist-packages (from matplotlib) (1.4.8)\n",
            "Requirement already satisfied: packaging>=20.0 in /usr/local/lib/python3.11/dist-packages (from matplotlib) (24.2)\n",
            "Requirement already satisfied: pillow>=8 in /usr/local/lib/python3.11/dist-packages (from matplotlib) (11.2.1)\n",
            "Requirement already satisfied: pyparsing>=2.3.1 in /usr/local/lib/python3.11/dist-packages (from matplotlib) (3.2.3)\n",
            "Requirement already satisfied: six>=1.5 in /usr/local/lib/python3.11/dist-packages (from python-dateutil>=2.8.2->pandas) (1.17.0)\n"
          ]
        }
      ],
      "source": [
        "pip install pandas scikit-learn matplotlib seaborn\n"
      ]
    },
    {
      "cell_type": "code",
      "source": [
        "import pandas as pd\n",
        "import zipfile\n",
        "from sklearn.model_selection import train_test_split\n",
        "from sklearn.preprocessing import StandardScaler\n",
        "from sklearn.ensemble import RandomForestClassifier\n",
        "from sklearn.linear_model import LogisticRegression\n",
        "from sklearn.metrics import classification_report, confusion_matrix, precision_recall_curve, auc\n",
        "import matplotlib.pyplot as plt\n",
        "import seaborn as sns\n",
        "\n",
        "\n",
        "\n",
        "df = pd.read_csv(\"/content/fraudTest.csv\")\n",
        "df = df.dropna(subset=['is_fraud'])\n",
        "df = df.drop(['trans_date_trans_time', 'cc_num', 'merchant', 'first', 'last',\n",
        "              'street', 'city', 'state', 'zip', 'unix_time', 'job', 'dob'], axis=1, errors='ignore')\n",
        "\n",
        "\n",
        "\n",
        "print(\"Columns:\", df.columns.tolist())\n",
        "print(\"Sample rows:\\n\", df.head())\n"
      ],
      "metadata": {
        "colab": {
          "base_uri": "https://localhost:8080/"
        },
        "id": "hNsV2MPhqJSQ",
        "outputId": "6449d05c-62cc-49e2-8c58-6f6e95183422"
      },
      "execution_count": null,
      "outputs": [
        {
          "output_type": "stream",
          "name": "stdout",
          "text": [
            "Columns: ['Unnamed: 0', 'category', 'amt', 'gender', 'lat', 'long', 'city_pop', 'trans_num', 'merch_lat', 'merch_long', 'is_fraud']\n",
            "Sample rows:\n",
            "    Unnamed: 0        category    amt gender      lat      long  city_pop  \\\n",
            "0           0   personal_care   2.86      M  33.9659  -80.9355  333497.0   \n",
            "1           1   personal_care  29.84      F  40.3207 -110.4360     302.0   \n",
            "2           2  health_fitness  41.28      F  40.6729  -73.5365   34496.0   \n",
            "3           3        misc_pos  60.05      M  28.5697  -80.8191   54767.0   \n",
            "4           4          travel   3.19      M  44.2529  -85.0170    1126.0   \n",
            "\n",
            "                          trans_num  merch_lat  merch_long  is_fraud  \n",
            "0  2da90c7d74bd46a0caf3777415b3ebd3  33.986391  -81.200714       0.0  \n",
            "1  324cc204407e99f51b0d6ca0055005e7  39.450498 -109.960431       0.0  \n",
            "2  c81755dbbbea9d5c77f094348a7579be  40.495810  -74.196111       0.0  \n",
            "3  2159175b9efe66dc301f149d3d5abf8c  28.812398  -80.883061       0.0  \n",
            "4  57ff021bd3f328f8738bb535c302a31b  44.959148  -85.884734       0.0  \n"
          ]
        }
      ]
    },
    {
      "cell_type": "code",
      "source": [
        "# Encode categorical features\n",
        "df = pd.get_dummies(df, columns=['category', 'gender'], drop_first=True)\n",
        "\n",
        "\n",
        "X = df.drop('is_fraud', axis=1)\n",
        "y = df['is_fraud']\n",
        "# Check data types\n",
        "print(X.dtypes)\n",
        "\n",
        "# Drop any remaining non-numeric columns\n",
        "non_numeric = X.select_dtypes(include='object').columns\n",
        "print(\"Non-numeric columns being dropped:\", non_numeric.tolist())\n",
        "X = X.drop(columns=non_numeric)"
      ],
      "metadata": {
        "colab": {
          "base_uri": "https://localhost:8080/"
        },
        "id": "AbSboXNuYgwa",
        "outputId": "c4dece78-3fa9-4991-e280-2b20d0dec88e"
      },
      "execution_count": null,
      "outputs": [
        {
          "output_type": "stream",
          "name": "stdout",
          "text": [
            "Unnamed: 0                   int64\n",
            "amt                        float64\n",
            "lat                        float64\n",
            "long                       float64\n",
            "city_pop                   float64\n",
            "trans_num                   object\n",
            "merch_lat                  float64\n",
            "merch_long                 float64\n",
            "category_food_dining          bool\n",
            "category_gas_transport        bool\n",
            "category_grocery_net          bool\n",
            "category_grocery_pos          bool\n",
            "category_health_fitness       bool\n",
            "category_home                 bool\n",
            "category_kids_pets            bool\n",
            "category_misc_net             bool\n",
            "category_misc_pos             bool\n",
            "category_personal_care        bool\n",
            "category_shopping_net         bool\n",
            "category_shopping_pos         bool\n",
            "category_travel               bool\n",
            "gender_M                      bool\n",
            "dtype: object\n",
            "Non-numeric columns being dropped: ['trans_num']\n"
          ]
        }
      ]
    },
    {
      "cell_type": "code",
      "source": [
        "X_train, X_test, y_train, y_test = train_test_split(X, y, test_size=0.2, stratify=y, random_state=42)\n",
        "\n",
        "scaler = StandardScaler()\n",
        "X_train = scaler.fit_transform(X_train)\n",
        "X_test = scaler.transform(X_test)"
      ],
      "metadata": {
        "id": "qgLvDeJmYnrG"
      },
      "execution_count": null,
      "outputs": []
    },
    {
      "cell_type": "code",
      "source": [
        "# Logistic Regression\n",
        "lr = LogisticRegression(max_iter=1000, class_weight='balanced')\n",
        "lr.fit(X_train, y_train)\n",
        "y_pred_lr = lr.predict(X_test)\n",
        "print(\"🔹 Logistic Regression:\\n\", classification_report(y_test, y_pred_lr))"
      ],
      "metadata": {
        "colab": {
          "base_uri": "https://localhost:8080/"
        },
        "id": "7VEZ4XzoYqLs",
        "outputId": "e8681ad2-7c40-46f9-ab66-4b89f6f5f1ee"
      },
      "execution_count": null,
      "outputs": [
        {
          "output_type": "stream",
          "name": "stdout",
          "text": [
            "🔹 Logistic Regression:\n",
            "               precision    recall  f1-score   support\n",
            "\n",
            "         0.0       1.00      0.87      0.93     18587\n",
            "         1.0       0.02      0.78      0.05        77\n",
            "\n",
            "    accuracy                           0.87     18664\n",
            "   macro avg       0.51      0.82      0.49     18664\n",
            "weighted avg       0.99      0.87      0.92     18664\n",
            "\n"
          ]
        }
      ]
    },
    {
      "cell_type": "code",
      "source": [
        "# Random Forest\n",
        "rf = RandomForestClassifier(n_estimators=100, class_weight='balanced', random_state=42)\n",
        "rf.fit(X_train, y_train)\n",
        "y_pred_rf = rf.predict(X_test)\n",
        "print(\"🔹 Random Forest:\\n\", classification_report(y_test, y_pred_rf))\n",
        "\n",
        "\n",
        "\n",
        "\n",
        "\n"
      ],
      "metadata": {
        "colab": {
          "base_uri": "https://localhost:8080/"
        },
        "id": "EY1JLspctuKg",
        "outputId": "d0d9b517-ac30-45e8-abd3-8d759d520511"
      },
      "execution_count": null,
      "outputs": [
        {
          "output_type": "stream",
          "name": "stdout",
          "text": [
            "🔹 Random Forest:\n",
            "               precision    recall  f1-score   support\n",
            "\n",
            "         0.0       1.00      1.00      1.00     18587\n",
            "         1.0       0.96      0.58      0.73        77\n",
            "\n",
            "    accuracy                           1.00     18664\n",
            "   macro avg       0.98      0.79      0.86     18664\n",
            "weighted avg       1.00      1.00      1.00     18664\n",
            "\n"
          ]
        }
      ]
    },
    {
      "cell_type": "code",
      "source": [
        "\n",
        "def plot_cm(y_true, y_pred, title):\n",
        "    cm = confusion_matrix(y_true, y_pred)\n",
        "    sns.heatmap(cm, annot=True, fmt='d', cmap='Blues',\n",
        "                xticklabels=['Legit', 'Fraud'],\n",
        "                yticklabels=['Legit', 'Fraud'])\n",
        "    plt.title(title)\n",
        "    plt.ylabel('True Label')\n",
        "    plt.xlabel('Predicted Label')\n",
        "    plt.show()\n",
        "\n",
        "plot_cm(y_test, y_pred_rf, \"Random Forest Confusion Matrix\")"
      ],
      "metadata": {
        "colab": {
          "base_uri": "https://localhost:8080/",
          "height": 472
        },
        "id": "qFjausvaYuIK",
        "outputId": "b35869d1-2430-4e81-d9ae-ac7083d6cab7"
      },
      "execution_count": null,
      "outputs": [
        {
          "output_type": "display_data",
          "data": {
            "text/plain": [
              "<Figure size 640x480 with 2 Axes>"
            ],
            "image/png": "[encoded data removed]"
          },
          "metadata": {}
        }
      ]
    },
    {
      "cell_type": "code",
      "source": [
        "probs = rf.predict_proba(X_test)[:, 1]\n",
        "precision, recall, _ = precision_recall_curve(y_test, probs)\n",
        "pr_auc = auc(recall, precision)\n",
        "\n",
        "plt.plot(recall, precision, label=f'AUC = {pr_auc:.2f}')\n",
        "plt.xlabel('Recall')\n",
        "plt.ylabel('Precision')\n",
        "plt.title('Precision-Recall Curve (Random Forest)')\n",
        "plt.legend()\n",
        "plt.grid(True)\n",
        "plt.show()"
      ],
      "metadata": {
        "colab": {
          "base_uri": "https://localhost:8080/",
          "height": 472
        },
        "id": "wDv_kr8PYu5r",
        "outputId": "4f7c47b9-76bb-4e35-b6e0-11ab9710c153"
      },
      "execution_count": null,
      "outputs": [
        {
          "output_type": "display_data",
          "data": {
            "text/plain": [
              "<Figure size 640x480 with 1 Axes>"
            ],
            "image/png": "[encoded data removed]"
          },
          "metadata": {}
        }
      ]
    },
    {
      "cell_type": "code",
      "source": [
        "# Take a random fraud or legit sample from the dataset\n",
        "sample_row = df[df['is_fraud'] == 0].sample(1)  # Change to 1 for fraud sample\n"
      ],
      "metadata": {
        "id": "RbtTVbApRnm7"
      },
      "execution_count": null,
      "outputs": []
    },
    {
      "cell_type": "code",
      "source": [
        "# Drop the target column\n",
        "sample_X = sample_row.drop('is_fraud', axis=1)\n",
        "\n",
        "# Drop any object-type columns\n",
        "sample_X = sample_X.drop(columns=sample_X.select_dtypes(include='object').columns)\n",
        "\n",
        "# Make sure it has the same columns as training data\n",
        "sample_X = sample_X.reindex(columns=X.columns, fill_value=0)\n",
        "\n",
        "# Scale\n",
        "sample_X_scaled = scaler.transform(sample_X)\n",
        "# Predict class and probability\n",
        "prediction = rf.predict(sample_X_scaled)\n",
        "probability = rf.predict_proba(sample_X_scaled)\n",
        "\n",
        "print(\"🧾 Prediction:\", \"FRAUD\" if prediction[0] == 1 else \"LEGIT\")\n",
        "\n"
      ],
      "metadata": {
        "colab": {
          "base_uri": "https://localhost:8080/"
        },
        "id": "vO_aL6vRR9Mc",
        "outputId": "58b2fa07-487c-4948-db58-fec4d528af85"
      },
      "execution_count": null,
      "outputs": [
        {
          "output_type": "stream",
          "name": "stdout",
          "text": [
            "🧾 Prediction: LEGIT\n"
          ]
        }
      ]
    }
  ]
}